{
 "cells": [
  {
   "cell_type": "markdown",
   "id": "a70bd7e6",
   "metadata": {},
   "source": [
    "## Gavin Trumbull\n",
    "# assignment 4, eric matthes, 2nd edition, spring 2023\n",
    "# CS150"
   ]
  },
  {
   "cell_type": "code",
   "execution_count": 8,
   "id": "a233dd77",
   "metadata": {},
   "outputs": [
    {
     "name": "stdout",
     "output_type": "stream",
     "text": [
      "1\n",
      "2\n",
      "3\n",
      "4\n",
      "5\n",
      "6 *\n",
      "7\n",
      "8\n",
      "9 *\n",
      "10\n",
      "11\n",
      "12 *\n",
      "13\n",
      "14\n",
      "15 *\n",
      "16\n",
      "17\n",
      "18 *\n",
      "19\n",
      "20\n",
      "21 *\n",
      "22\n",
      "23\n",
      "24 *\n",
      "25\n",
      "26\n",
      "27 *\n",
      "28\n",
      "29\n",
      "30 *\n",
      "31\n",
      "32\n",
      "33 *\n",
      "34\n",
      "35\n",
      "36 *\n",
      "37\n",
      "38\n",
      "39 *\n",
      "40\n",
      "41\n",
      "42 *\n",
      "43\n",
      "44\n",
      "45 *\n",
      "46\n",
      "47\n",
      "48 *\n",
      "49\n",
      "50\n",
      "51 *\n",
      "52\n",
      "53\n",
      "54 *\n",
      "55\n",
      "56\n",
      "57 *\n",
      "58\n",
      "59\n",
      "60 *\n",
      "61\n",
      "62\n",
      "63 *\n",
      "64\n",
      "65\n",
      "66 *\n",
      "67\n",
      "68\n",
      "69 *\n",
      "70\n",
      "71\n",
      "72 *\n",
      "73\n",
      "74\n",
      "75 *\n",
      "76\n",
      "77\n",
      "78 *\n",
      "79\n",
      "80\n",
      "81 *\n",
      "82\n",
      "83\n",
      "84 *\n",
      "85\n",
      "86\n",
      "87 *\n",
      "88\n",
      "89\n",
      "90 *\n",
      "91\n",
      "92\n",
      "93 *\n",
      "94\n",
      "95\n",
      "96 *\n",
      "97\n",
      "98\n",
      "99 *\n",
      "100\n"
     ]
    }
   ],
   "source": [
    "numbers=range(1,101)\n",
    "for number in numbers:\n",
    "    if(number%3==0 and number>3):\n",
    "        print(number,'*')\n",
    "    else:\n",
    "        print(number)"
   ]
  },
  {
   "cell_type": "code",
   "execution_count": 19,
   "id": "ad1ad914",
   "metadata": {},
   "outputs": [
    {
     "name": "stdout",
     "output_type": "stream",
     "text": [
      "insert a number from 1 to 12: 12\n",
      "this is the month of December which has 31 days in it.\n"
     ]
    }
   ],
   "source": [
    "month=int(input(\"insert a number from 1 to 12: \"))\n",
    "if(month==1):\n",
    "    print('this is the month of January which has 31 days in it.')\n",
    "elif(month==2):\n",
    "    print('this is the month of Febuary which has 28 days in it.')      \n",
    "elif(month==3):\n",
    "    print('this is the month of March which has 31 days in it.')      \n",
    "elif(month==4):\n",
    "    print('this is the month of April which has 30 days in it.')      \n",
    "elif(month==5):\n",
    "    print('this is the month of May which has 31 days in it.')      \n",
    "elif(month==6):\n",
    "    print('this is the month of June which has 30 days in it.')      \n",
    "elif(month==7):\n",
    "    print('this is the month of July which has 31 days in it.')      \n",
    "elif(month==8):\n",
    "    print('this is the month of August which has 31 days in it.')      \n",
    "elif(month==9):\n",
    "    print('this is the month of September which has 30 days in it.')      \n",
    "elif(month==10):\n",
    "    print('this is the month of October which has 31 days in it.')      \n",
    "elif(month==11):\n",
    "    print('this is the month of November which has 30 days in it.')      \n",
    "elif(month==12):\n",
    "    print('this is the month of December which has 31 days in it.')      "
   ]
  },
  {
   "cell_type": "code",
   "execution_count": 3,
   "id": "2b7b03d2",
   "metadata": {},
   "outputs": [
    {
     "name": "stdout",
     "output_type": "stream",
     "text": [
      "the number tested here is: 7919\n",
      "this is a prime number\n"
     ]
    }
   ],
   "source": [
    "number=int(input('the number tested here is: '))\n",
    "if(number==1):\n",
    "    print('the number is not prime')\n",
    "elif(number>1):\n",
    "    for i in range(2,number):\n",
    "        if(number%i==0):\n",
    "            print('this is a composite number')\n",
    "            break\n",
    "    else:\n",
    "        print('this is a prime number')\n",
    "            \n",
    "else:\n",
    "    print('this is a composite number')"
   ]
  },
  {
   "cell_type": "code",
   "execution_count": 6,
   "id": "eca0c35d",
   "metadata": {},
   "outputs": [
    {
     "name": "stdout",
     "output_type": "stream",
     "text": [
      "the first side of the triagle has a lenght of: 1\n",
      "the second side of the triagle has a lenght of: 2\n",
      "the third side of the triagle has a lenght of: 3\n",
      "this triangle is an scalene triangle\n"
     ]
    }
   ],
   "source": [
    "side1=int(input('the first side of the triagle has a lenght of: '))\n",
    "side2=int(input('the second side of the triagle has a lenght of: '))\n",
    "side3=int(input('the third side of the triagle has a lenght of: '))\n",
    "if(side1==side2 and side1==side3):\n",
    "    print('this triangle is an equilateral triangle')\n",
    "elif(side1!=side2 and side1!=side3):\n",
    "    print('this triangle is an scalene triangle')\n",
    "else:\n",
    "    print('this triangle is an isoseles triangle')"
   ]
  },
  {
   "cell_type": "code",
   "execution_count": 7,
   "id": "09fe1688",
   "metadata": {
    "scrolled": true
   },
   "outputs": [
    {
     "name": "stdout",
     "output_type": "stream",
     "text": [
      "number of elements in list: 8\n",
      "65\n",
      "78\n",
      "34\n",
      "56\n",
      "12\n",
      "9\n",
      "43\n",
      "67\n",
      "65 : senior\n",
      "78 : senior\n",
      "34 : adult\n",
      "56 : adult\n",
      "12 : minor\n",
      "9 : minor\n",
      "43 : adult\n",
      "67 : senior\n"
     ]
    }
   ],
   "source": [
    "numbers=[]\n",
    "n=int(input('number of elements in list: '))\n",
    "for i in range(0,n):\n",
    "    ele=int(input())\n",
    "    numbers.append(ele)\n",
    "for i in numbers:\n",
    "    if(i<18):\n",
    "        print(i,': minor')\n",
    "    elif(i>=18 and i<=64):\n",
    "        print(i,': adult')\n",
    "    elif(i>=65):\n",
    "        print(i,': senior')"
   ]
  },
  {
   "cell_type": "code",
   "execution_count": null,
   "id": "be3e3430",
   "metadata": {},
   "outputs": [],
   "source": []
  }
 ],
 "metadata": {
  "kernelspec": {
   "display_name": "Python 3 (ipykernel)",
   "language": "python",
   "name": "python3"
  },
  "language_info": {
   "codemirror_mode": {
    "name": "ipython",
    "version": 3
   },
   "file_extension": ".py",
   "mimetype": "text/x-python",
   "name": "python",
   "nbconvert_exporter": "python",
   "pygments_lexer": "ipython3",
   "version": "3.9.13"
  }
 },
 "nbformat": 4,
 "nbformat_minor": 5
}
